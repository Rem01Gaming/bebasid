{
  "nbformat": 4,
  "nbformat_minor": 0,
  "metadata": {
    "colab": {
      "provenance": []
    },
    "kernelspec": {
      "name": "python3",
      "display_name": "Python 3"
    },
    "language_info": {
      "name": "python"
    }
  },
  "cells": [
    {
      "cell_type": "markdown",
      "source": [
        "# BEBASID DOMAIN SCANNER"
      ],
      "metadata": {
        "id": "jgjLpfqg55Vy"
      }
    },
    {
      "cell_type": "markdown",
      "source": [
        "**Initialize**"
      ],
      "metadata": {
        "id": "q7E3jUqV2lzC"
      }
    },
    {
      "cell_type": "code",
      "source": [
        "!sudo apt install nmap\n",
        "\n",
        "!git clone https://github.com/aboul3la/Sublist3r.git\n",
        "!git clone https://github.com/guelfoweb/knock.git\n",
        "!git clone https://github.com/shmilylty/OneForAll.git\n",
        "!git clone https://github.com/laramies/theHarvester.git\n",
        "!git clone https://github.com/gfek/Lepus.git\n",
        "!git clone https://github.com/rbsec/dnscan.git\n",
        "!git clone https://github.com/thewhiteh4t/FinalRecon.git\n",
        "!sudo pip install -r Sublist3r/requirements.txt\n",
        "!sudo pip install -r knock/requirements.txt\n",
        "!sudo pip install -r OneForAll/requirements.txt\n",
        "!sudo pip install -r theHarvester/requirements/base.txt\n",
        "!sudo pip install -r Lepus/requirements.txt\n",
        "!sudo pip install -r dnscan/requirements.txt\n",
        "!sudo pip install -r FinalRecon/requirements.txt\n",
        "\n",
        "!sudo pip install anubis-netsec\n",
        "!sudo pip install bbot\n",
        "\n",
        "!curl -LO https://github.com/findomain/findomain/releases/latest/download/findomain-linux.zip\n",
        "!unzip findomain-linux.zip\n",
        "!chmod +x findomain\n",
        "!sudo mv findomain /usr/bin/findomain\n",
        "!findomain --help\n",
        "\n",
        "!wget https://raw.githubusercontent.com/bebasid/bebasid/master/dev/scripts/scan.py\n",
        "\n",
        "# ENTER DOMAIN NAME\n",
        "domain = \"example.com\""
      ],
      "metadata": {
        "id": "r1PdqyEf3F-D"
      },
      "execution_count": null,
      "outputs": []
    },
    {
      "cell_type": "markdown",
      "source": [
        "**Subdomain Finder 1 | Sublist3r**"
      ],
      "metadata": {
        "id": "A-HtOsDX3ADB"
      }
    },
    {
      "cell_type": "code",
      "source": [
        "!python Sublist3r/sublist3r.py -d {domain}"
      ],
      "metadata": {
        "id": "5W2wh4VN3yfD"
      },
      "execution_count": null,
      "outputs": []
    },
    {
      "cell_type": "markdown",
      "source": [
        "**Subdomain Finder 2 | knock**"
      ],
      "metadata": {
        "id": "ycUsl8_e3FSv"
      }
    },
    {
      "cell_type": "code",
      "source": [
        "!python knock/knockpy.py {domain}"
      ],
      "metadata": {
        "id": "WQdRuhia43aa"
      },
      "execution_count": null,
      "outputs": []
    },
    {
      "cell_type": "markdown",
      "source": [
        "**Subdomain Finder 3 | OneForAll**"
      ],
      "metadata": {
        "id": "P-urQ2_XOMo0"
      }
    },
    {
      "cell_type": "code",
      "source": [
        "!python OneForAll/oneforall.py --target {domain} run\n",
        "!cat OneForAll/results/{domain}.csv"
      ],
      "metadata": {
        "id": "12ZP1dioOOwR"
      },
      "execution_count": null,
      "outputs": []
    },
    {
      "cell_type": "markdown",
      "source": [
        "**Subdomain Finder 4 | theHarvester**"
      ],
      "metadata": {
        "id": "PEwrdxMQP6Ff"
      }
    },
    {
      "cell_type": "code",
      "source": [
        "!python theHarvester/theHarvester.py -d {domain} -b all"
      ],
      "metadata": {
        "id": "S3rW16GnP4xC"
      },
      "execution_count": null,
      "outputs": []
    },
    {
      "cell_type": "markdown",
      "source": [
        "**Subdomain Finder 5 | Nmap**"
      ],
      "metadata": {
        "id": "VF3TarpxXz91"
      }
    },
    {
      "cell_type": "code",
      "source": [
        "!nmap --script dns-brute {domain}"
      ],
      "metadata": {
        "id": "jLCEnbutXjCU"
      },
      "execution_count": null,
      "outputs": []
    },
    {
      "cell_type": "markdown",
      "source": [
        "**Subdomain Finder 6 | Lepus**"
      ],
      "metadata": {
        "id": "OLdeyjSVYd5e"
      }
    },
    {
      "cell_type": "code",
      "source": [
        "!python Lepus/lepus.py {domain}"
      ],
      "metadata": {
        "id": "YO2TDODRYeUe"
      },
      "execution_count": null,
      "outputs": []
    },
    {
      "cell_type": "markdown",
      "source": [
        "**Subdomain Finder 7 | Findomain**"
      ],
      "metadata": {
        "id": "-5u6VBw3atFf"
      }
    },
    {
      "cell_type": "code",
      "source": [
        "!findomain -t {domain}"
      ],
      "metadata": {
        "id": "42W-ig3TZ3ff"
      },
      "execution_count": null,
      "outputs": []
    },
    {
      "cell_type": "markdown",
      "source": [
        "**Subdomain Finder 8 | Anubis**"
      ],
      "metadata": {
        "id": "EGAeepT33Gdf"
      }
    },
    {
      "cell_type": "code",
      "source": [
        "!anubis -t {domain}"
      ],
      "metadata": {
        "id": "D8ev1BcsdUBb"
      },
      "execution_count": null,
      "outputs": []
    },
    {
      "cell_type": "markdown",
      "source": [
        "**Subdomain Finder 9 | dnscan**"
      ],
      "metadata": {
        "id": "1TyYbb1QerLi"
      }
    },
    {
      "cell_type": "code",
      "source": [
        "!python dnscan/dnscan.py -d {domain}"
      ],
      "metadata": {
        "id": "_wThmLFoew6k"
      },
      "execution_count": null,
      "outputs": []
    },
    {
      "cell_type": "markdown",
      "source": [
        "**Subdomain Finder 10 | bbot**"
      ],
      "metadata": {
        "id": "dyplQe_Zfc72"
      }
    },
    {
      "cell_type": "code",
      "source": [
        "!bbot -t {domain} -f subdomain-enum -y"
      ],
      "metadata": {
        "id": "S9hKK27wfKdj"
      },
      "execution_count": null,
      "outputs": []
    },
    {
      "cell_type": "markdown",
      "source": [
        "**Subdomain Finder 11 | FinalRecon**"
      ],
      "metadata": {
        "id": "ZU4O5VA_hUOG"
      }
    },
    {
      "cell_type": "code",
      "source": [
        "!python FinalRecon/finalrecon.py --sub https://{domain}"
      ],
      "metadata": {
        "id": "R7iYcYiDhWh8"
      },
      "execution_count": null,
      "outputs": []
    },
    {
      "cell_type": "markdown",
      "source": [
        " **Add domain lists to file**"
      ],
      "metadata": {
        "id": "N0wn4JBFenOy"
      }
    },
    {
      "cell_type": "code",
      "source": [
        "content = \"\"\"domain1\n",
        "domain2\n",
        "domain3\n",
        "domain1\n",
        "domain4\n",
        "domain5\n",
        "\"\"\"\n",
        "\n",
        "with open('domains-unsorted.txt', 'w') as f:\n",
        "    f.write(content)\n",
        "\n",
        "!cat domains-unsorted.txt"
      ],
      "metadata": {
        "id": "9QwhOpHtvRb-"
      },
      "execution_count": null,
      "outputs": []
    },
    {
      "cell_type": "markdown",
      "source": [
        "**Sort and remove duplicate from list**"
      ],
      "metadata": {
        "id": "eGCg4YIi5GRo"
      }
    },
    {
      "cell_type": "code",
      "source": [
        "with open('domains-unsorted.txt', 'r') as file:\n",
        "    lines = file.read().split('\\n')\n",
        "\n",
        "unique_lines = list(set(lines))\n",
        "\n",
        "sorted_unique_lines = sorted(unique_lines, key=len)\n",
        "\n",
        "sorted_unique_content = \"\\n\".join(sorted_unique_lines)\n",
        "\n",
        "with open('domains-sorted.txt', 'w') as file:\n",
        "    file.write(sorted_unique_content)\n",
        "\n",
        "!cat domains-sorted.txt"
      ],
      "metadata": {
        "id": "jfL2Obv236ok"
      },
      "execution_count": null,
      "outputs": []
    },
    {
      "cell_type": "markdown",
      "source": [
        "**Run Scan**"
      ],
      "metadata": {
        "id": "t76GeP4j3RX9"
      }
    },
    {
      "cell_type": "code",
      "source": [
        "!python scan.py domains-sorted.txt\n",
        "!echo\n",
        "!echo \"Result Lists:\"\n",
        "!cat hosts-domains-sorted.txt"
      ],
      "metadata": {
        "id": "m12nw_Zd5rcx"
      },
      "execution_count": null,
      "outputs": []
    }
  ]
}
